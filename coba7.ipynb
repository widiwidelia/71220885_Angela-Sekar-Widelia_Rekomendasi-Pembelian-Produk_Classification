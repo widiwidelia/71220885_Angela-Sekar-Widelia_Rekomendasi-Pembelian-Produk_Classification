{
 "cells": [
  {
   "cell_type": "markdown",
   "metadata": {},
   "source": [
    "### Import Libraries"
   ]
  },
  {
   "cell_type": "code",
   "execution_count": 1,
   "metadata": {},
   "outputs": [],
   "source": [
    "import pandas as pd\n",
    "import numpy as np\n",
    "from scipy.sparse import csr_matrix\n",
    "from sklearn.neighbors import NearestNeighbors\n",
    "from sklearn.model_selection import train_test_split\n",
    "from sklearn.metrics import precision_score, recall_score, f1_score, confusion_matrix\n",
    "from sklearn.metrics import accuracy_score\n",
    "import matplotlib.pyplot as plt\n",
    "import seaborn as sns"
   ]
  },
  {
   "cell_type": "markdown",
   "metadata": {},
   "source": [
    "* `pandas` untuk manipulasi data\n",
    "* `numpy` untuk melakukan perhitungan numerik\n",
    "* `scipy.sparse` untuk membuat sparse matrix\n",
    "* `sklearn.neighbors.NearestNeighbors` untuk algoritma KNN\n",
    "* `sklearn.model_selection.train_test_split` untuk split data menjadi train dan test\n",
    "* `sklearn.metrics` untuk metrik evaluasi\n",
    "* `matplotlib.pyplot` untuk visualisasi data\n",
    "* `seaborn` untuk plot statistik"
   ]
  },
  {
   "cell_type": "markdown",
   "metadata": {},
   "source": [
    "### Read Data"
   ]
  },
  {
   "cell_type": "code",
   "execution_count": 2,
   "metadata": {},
   "outputs": [
    {
     "data": {
      "text/html": [
       "<div>\n",
       "<style scoped>\n",
       "    .dataframe tbody tr th:only-of-type {\n",
       "        vertical-align: middle;\n",
       "    }\n",
       "\n",
       "    .dataframe tbody tr th {\n",
       "        vertical-align: top;\n",
       "    }\n",
       "\n",
       "    .dataframe thead th {\n",
       "        text-align: right;\n",
       "    }\n",
       "</style>\n",
       "<table border=\"1\" class=\"dataframe\">\n",
       "  <thead>\n",
       "    <tr style=\"text-align: right;\">\n",
       "      <th></th>\n",
       "      <th>userID</th>\n",
       "      <th>productID</th>\n",
       "      <th>rating</th>\n",
       "      <th>timestamp</th>\n",
       "    </tr>\n",
       "  </thead>\n",
       "  <tbody>\n",
       "    <tr>\n",
       "      <th>0</th>\n",
       "      <td>AKM1MP6P0OYPR</td>\n",
       "      <td>0132793040</td>\n",
       "      <td>5.0</td>\n",
       "      <td>1365811200</td>\n",
       "    </tr>\n",
       "    <tr>\n",
       "      <th>1</th>\n",
       "      <td>A2CX7LUOHB2NDG</td>\n",
       "      <td>0321732944</td>\n",
       "      <td>5.0</td>\n",
       "      <td>1341100800</td>\n",
       "    </tr>\n",
       "    <tr>\n",
       "      <th>2</th>\n",
       "      <td>A2NWSAGRHCP8N5</td>\n",
       "      <td>0439886341</td>\n",
       "      <td>1.0</td>\n",
       "      <td>1367193600</td>\n",
       "    </tr>\n",
       "    <tr>\n",
       "      <th>3</th>\n",
       "      <td>A2WNBOD3WNDNKT</td>\n",
       "      <td>0439886341</td>\n",
       "      <td>3.0</td>\n",
       "      <td>1374451200</td>\n",
       "    </tr>\n",
       "    <tr>\n",
       "      <th>4</th>\n",
       "      <td>A1GI0U4ZRJA8WN</td>\n",
       "      <td>0439886341</td>\n",
       "      <td>1.0</td>\n",
       "      <td>1334707200</td>\n",
       "    </tr>\n",
       "    <tr>\n",
       "      <th>...</th>\n",
       "      <td>...</td>\n",
       "      <td>...</td>\n",
       "      <td>...</td>\n",
       "      <td>...</td>\n",
       "    </tr>\n",
       "    <tr>\n",
       "      <th>7824477</th>\n",
       "      <td>A2YZI3C9MOHC0L</td>\n",
       "      <td>BT008UKTMW</td>\n",
       "      <td>5.0</td>\n",
       "      <td>1396569600</td>\n",
       "    </tr>\n",
       "    <tr>\n",
       "      <th>7824478</th>\n",
       "      <td>A322MDK0M89RHN</td>\n",
       "      <td>BT008UKTMW</td>\n",
       "      <td>5.0</td>\n",
       "      <td>1313366400</td>\n",
       "    </tr>\n",
       "    <tr>\n",
       "      <th>7824479</th>\n",
       "      <td>A1MH90R0ADMIK0</td>\n",
       "      <td>BT008UKTMW</td>\n",
       "      <td>4.0</td>\n",
       "      <td>1404172800</td>\n",
       "    </tr>\n",
       "    <tr>\n",
       "      <th>7824480</th>\n",
       "      <td>A10M2KEFPEQDHN</td>\n",
       "      <td>BT008UKTMW</td>\n",
       "      <td>4.0</td>\n",
       "      <td>1297555200</td>\n",
       "    </tr>\n",
       "    <tr>\n",
       "      <th>7824481</th>\n",
       "      <td>A2G81TMIOIDEQQ</td>\n",
       "      <td>BT008V9J9U</td>\n",
       "      <td>5.0</td>\n",
       "      <td>1312675200</td>\n",
       "    </tr>\n",
       "  </tbody>\n",
       "</table>\n",
       "<p>7824482 rows × 4 columns</p>\n",
       "</div>"
      ],
      "text/plain": [
       "                 userID   productID  rating   timestamp\n",
       "0         AKM1MP6P0OYPR  0132793040     5.0  1365811200\n",
       "1        A2CX7LUOHB2NDG  0321732944     5.0  1341100800\n",
       "2        A2NWSAGRHCP8N5  0439886341     1.0  1367193600\n",
       "3        A2WNBOD3WNDNKT  0439886341     3.0  1374451200\n",
       "4        A1GI0U4ZRJA8WN  0439886341     1.0  1334707200\n",
       "...                 ...         ...     ...         ...\n",
       "7824477  A2YZI3C9MOHC0L  BT008UKTMW     5.0  1396569600\n",
       "7824478  A322MDK0M89RHN  BT008UKTMW     5.0  1313366400\n",
       "7824479  A1MH90R0ADMIK0  BT008UKTMW     4.0  1404172800\n",
       "7824480  A10M2KEFPEQDHN  BT008UKTMW     4.0  1297555200\n",
       "7824481  A2G81TMIOIDEQQ  BT008V9J9U     5.0  1312675200\n",
       "\n",
       "[7824482 rows x 4 columns]"
      ]
     },
     "execution_count": 2,
     "metadata": {},
     "output_type": "execute_result"
    }
   ],
   "source": [
    "file_name = 'dataset.csv' # membaca file CSV\n",
    "column_title = ['userID', 'productID', 'rating', 'timestamp'] # memberi nama judul kolom\n",
    "ds = pd.read_csv(file_name, names=column_title, header=None) # penerapan module pandas\n",
    "\n",
    "ds # menampilkan baris dataset"
   ]
  },
  {
   "cell_type": "markdown",
   "metadata": {},
   "source": [
    "### Data Cleaning"
   ]
  },
  {
   "cell_type": "code",
   "execution_count": 3,
   "metadata": {},
   "outputs": [
    {
     "name": "stdout",
     "output_type": "stream",
     "text": [
      "Data sudah bersih\n"
     ]
    }
   ],
   "source": [
    "# memeriksa apakah ada data yang null\n",
    "for column in ds.columns:\n",
    "    # menghitung jumlah data null pada masing-masing kolom\n",
    "    null_count = ds[column].isnull().sum() \n",
    "    if null_count > 0:\n",
    "        print(f\"Sejumlah data {null_count} pada kolom {column} akan dibersihkan\")\n",
    "        ds = ds.dropna() # drop baris yang null\n",
    "\n",
    "print(\"Data sudah bersih\")"
   ]
  },
  {
   "cell_type": "markdown",
   "metadata": {},
   "source": [
    "Pada dataset yang diberikan, data sudah bersih sehingga tidak memproses data cleaning"
   ]
  },
  {
   "cell_type": "markdown",
   "metadata": {},
   "source": [
    "### Mengubah format timestamp menjadi yyyy-mm-dd"
   ]
  },
  {
   "cell_type": "markdown",
   "metadata": {},
   "source": [
    "``unit='s'`` berarti data merupakan nilai detik (second) sebelum di-convert ke format datetime"
   ]
  },
  {
   "cell_type": "code",
   "execution_count": 4,
   "metadata": {},
   "outputs": [
    {
     "data": {
      "text/html": [
       "<div>\n",
       "<style scoped>\n",
       "    .dataframe tbody tr th:only-of-type {\n",
       "        vertical-align: middle;\n",
       "    }\n",
       "\n",
       "    .dataframe tbody tr th {\n",
       "        vertical-align: top;\n",
       "    }\n",
       "\n",
       "    .dataframe thead th {\n",
       "        text-align: right;\n",
       "    }\n",
       "</style>\n",
       "<table border=\"1\" class=\"dataframe\">\n",
       "  <thead>\n",
       "    <tr style=\"text-align: right;\">\n",
       "      <th></th>\n",
       "      <th>userID</th>\n",
       "      <th>productID</th>\n",
       "      <th>rating</th>\n",
       "      <th>timestamp</th>\n",
       "      <th>date</th>\n",
       "    </tr>\n",
       "  </thead>\n",
       "  <tbody>\n",
       "    <tr>\n",
       "      <th>0</th>\n",
       "      <td>AKM1MP6P0OYPR</td>\n",
       "      <td>0132793040</td>\n",
       "      <td>5.0</td>\n",
       "      <td>1365811200</td>\n",
       "      <td>2013-04-13</td>\n",
       "    </tr>\n",
       "    <tr>\n",
       "      <th>1</th>\n",
       "      <td>A2CX7LUOHB2NDG</td>\n",
       "      <td>0321732944</td>\n",
       "      <td>5.0</td>\n",
       "      <td>1341100800</td>\n",
       "      <td>2012-07-01</td>\n",
       "    </tr>\n",
       "    <tr>\n",
       "      <th>2</th>\n",
       "      <td>A2NWSAGRHCP8N5</td>\n",
       "      <td>0439886341</td>\n",
       "      <td>1.0</td>\n",
       "      <td>1367193600</td>\n",
       "      <td>2013-04-29</td>\n",
       "    </tr>\n",
       "    <tr>\n",
       "      <th>3</th>\n",
       "      <td>A2WNBOD3WNDNKT</td>\n",
       "      <td>0439886341</td>\n",
       "      <td>3.0</td>\n",
       "      <td>1374451200</td>\n",
       "      <td>2013-07-22</td>\n",
       "    </tr>\n",
       "    <tr>\n",
       "      <th>4</th>\n",
       "      <td>A1GI0U4ZRJA8WN</td>\n",
       "      <td>0439886341</td>\n",
       "      <td>1.0</td>\n",
       "      <td>1334707200</td>\n",
       "      <td>2012-04-18</td>\n",
       "    </tr>\n",
       "  </tbody>\n",
       "</table>\n",
       "</div>"
      ],
      "text/plain": [
       "           userID   productID  rating   timestamp       date\n",
       "0   AKM1MP6P0OYPR  0132793040     5.0  1365811200 2013-04-13\n",
       "1  A2CX7LUOHB2NDG  0321732944     5.0  1341100800 2012-07-01\n",
       "2  A2NWSAGRHCP8N5  0439886341     1.0  1367193600 2013-04-29\n",
       "3  A2WNBOD3WNDNKT  0439886341     3.0  1374451200 2013-07-22\n",
       "4  A1GI0U4ZRJA8WN  0439886341     1.0  1334707200 2012-04-18"
      ]
     },
     "execution_count": 4,
     "metadata": {},
     "output_type": "execute_result"
    }
   ],
   "source": [
    "ds['date'] = pd.to_datetime(ds['timestamp'], unit='s')\n",
    "\n",
    "ds.head() # menampilkan beberapa baris teratas dari dataset"
   ]
  },
  {
   "cell_type": "markdown",
   "metadata": {},
   "source": [
    "### Mapping User dan Product"
   ]
  },
  {
   "cell_type": "markdown",
   "metadata": {},
   "source": [
    "* ``enumerate`` berguna sebagai data index (auto increment)\n",
    "* ``.unique()`` memastikan semua data berbeda\n",
    "* ``DataFrame`` digunakan untuk menyusun data menjadi seperti tabel"
   ]
  },
  {
   "cell_type": "code",
   "execution_count": 6,
   "metadata": {},
   "outputs": [
    {
     "data": {
      "text/plain": [
       "(                 UserID    Index\n",
       " 0         AKM1MP6P0OYPR        0\n",
       " 1        A2CX7LUOHB2NDG        1\n",
       " 2        A2NWSAGRHCP8N5        2\n",
       " 3        A2WNBOD3WNDNKT        3\n",
       " 4        A1GI0U4ZRJA8WN        4\n",
       " ...                 ...      ...\n",
       " 4201691   A5FUA9HEV2O42  4201691\n",
       " 4201692   A84WRQR47OOKR  4201692\n",
       " 4201693  A180UGKKYCPDH0  4201693\n",
       " 4201694  A2IGIIABRZ5LAB  4201694\n",
       " 4201695  A10M2KEFPEQDHN  4201695\n",
       " \n",
       " [4201696 rows x 2 columns],\n",
       "          ProductID   Index\n",
       " 0       0132793040       0\n",
       " 1       0321732944       1\n",
       " 2       0439886341       2\n",
       " 3       0511189877       3\n",
       " 4       0528881469       4\n",
       " ...            ...     ...\n",
       " 475997  BT008G3W52  475997\n",
       " 475998  BT008SXQ4C  475998\n",
       " 475999  BT008T2BGK  475999\n",
       " 476000  BT008UKTMW  476000\n",
       " 476001  BT008V9J9U  476001\n",
       " \n",
       " [476002 rows x 2 columns])"
      ]
     },
     "execution_count": 6,
     "metadata": {},
     "output_type": "execute_result"
    }
   ],
   "source": [
    "# mapping user dan product\n",
    "user_mapping = {user: index for index, user in enumerate(ds['userID'].unique())}\n",
    "product_mapping = {product: index for index, product in enumerate(ds['productID'].unique())}\n",
    "\n",
    "user_inverse_mapper = {index: user for user, index in user_mapping.items()}\n",
    "product_inverse_mapper = {index: product for product, index in product_mapping.items()}\n",
    "\n",
    "# membuat tampilan berupa hasil mapping dalam bentuk tabel\n",
    "user_mapper_sample = pd.DataFrame(list(user_mapping.items()), columns=['UserID', 'Index'])\n",
    "product_mapper_sample = pd.DataFrame(list(product_mapping.items()), columns=['ProductID', 'Index'])\n",
    "\n",
    "# print sample\n",
    "user_mapper_sample, product_mapper_sample"
   ]
  },
  {
   "cell_type": "markdown",
   "metadata": {},
   "source": [
    "### Mapping ID ke index"
   ]
  },
  {
   "cell_type": "code",
   "execution_count": 7,
   "metadata": {},
   "outputs": [
    {
     "data": {
      "text/plain": [
       "(   Index Awal  Mapped Index\n",
       " 0           0             0\n",
       " 1           1             1\n",
       " 2           2             2\n",
       " 3           3             3\n",
       " 4           4             4,\n",
       "    Index Awal  Mapped Index\n",
       " 0           0             0\n",
       " 1           1             1\n",
       " 2           2             2\n",
       " 3           3             2\n",
       " 4           4             2)"
      ]
     },
     "execution_count": 7,
     "metadata": {},
     "output_type": "execute_result"
    }
   ],
   "source": [
    "# mapping ID awal ke index yang sebelumnya dibuat\n",
    "user_index = ds['userID'].map(user_mapping)\n",
    "product_index = ds['productID'].map(product_mapping)\n",
    "\n",
    "# menampilkan ID dalam index awal dan index setelah mapping\n",
    "user_index_sample = user_index.head().reset_index()\n",
    "user_index_sample.columns = ['Index Awal', 'Mapped Index']\n",
    "\n",
    "product_index_sample = product_index.head().reset_index()\n",
    "product_index_sample.columns = ['Index Awal', 'Mapped Index']\n",
    "\n",
    "# menampilkan dalam bentuk tabel\n",
    "user_index_sample, product_index_sample"
   ]
  },
  {
   "cell_type": "markdown",
   "metadata": {},
   "source": [
    "### Membuat Matrix Sparse"
   ]
  },
  {
   "cell_type": "markdown",
   "metadata": {},
   "source": [
    "* matrix sparse ini merupakan hubungan rating dari user untuk suatu product\n",
    "* output yang dihasilkan berupa tuple (baris, kolom) di mana baris merupakan jumlah user yang ada dalam data sedangkan kolom merupakan jumlah product yang ada dalam data"
   ]
  },
  {
   "cell_type": "code",
   "execution_count": 8,
   "metadata": {},
   "outputs": [
    {
     "data": {
      "text/plain": [
       "(4201696, 476002)"
      ]
     },
     "execution_count": 8,
     "metadata": {},
     "output_type": "execute_result"
    }
   ],
   "source": [
    "# membuat matrix sparse\n",
    "# implementasi module scipy\n",
    "sparse_matrix = csr_matrix((ds['rating'], (user_index, product_index)), shape=(len(user_mapping), len(product_mapping)))\n",
    "\n",
    "# menampilkan length dari matriks sparse\n",
    "sparse_matrix.shape"
   ]
  },
  {
   "cell_type": "markdown",
   "metadata": {},
   "source": [
    "### Memisahkan data menjadi Data Train dan Data Test"
   ]
  },
  {
   "cell_type": "markdown",
   "metadata": {},
   "source": [
    "* Karena dataset belum dipisah menjadi data test dan data train, maka kita hanya perlu menggunakan 20% data untuk dijadikan data test\n",
    "* ``random_state`` merupakan tingkat randomness, pada proses ini saya menggunakan angka 53"
   ]
  },
  {
   "cell_type": "code",
   "execution_count": 9,
   "metadata": {},
   "outputs": [
    {
     "data": {
      "text/plain": [
       "((6259585, 5), (1564897, 5))"
      ]
     },
     "execution_count": 9,
     "metadata": {},
     "output_type": "execute_result"
    }
   ],
   "source": [
    "# membagi data menjadi data train dan data test\n",
    "data_train, data_test = train_test_split(ds, test_size=0.2, random_state=53)\n",
    "\n",
    "# menampilkan length (baris, kolom) dari data train dan data test\n",
    "data_train.shape, data_test.shape"
   ]
  },
  {
   "cell_type": "markdown",
   "metadata": {},
   "source": [
    "### Membuat Matrix Sparse untuk data train"
   ]
  },
  {
   "cell_type": "code",
   "execution_count": 10,
   "metadata": {},
   "outputs": [
    {
     "data": {
      "text/plain": [
       "(4201696, 476002)"
      ]
     },
     "execution_count": 10,
     "metadata": {},
     "output_type": "execute_result"
    }
   ],
   "source": [
    "# membuat matrix sparse untuk data train\n",
    "train_user_index = data_train['userID'].map(user_mapping)\n",
    "train_product_index = data_train['productID'].map(product_mapping)\n",
    "train_sparse_matrix = csr_matrix((data_train['rating'], (train_user_index, train_product_index)), shape=(len(user_mapping), len(product_mapping)))\n",
    "\n",
    "# menampilkan length matrix sparse untuk train\n",
    "train_sparse_matrix.shape"
   ]
  },
  {
   "cell_type": "markdown",
   "metadata": {},
   "source": [
    "### KNN Training"
   ]
  },
  {
   "cell_type": "markdown",
   "metadata": {},
   "source": [
    "Pada proses ini, yang dilakukan adalah training algoritma KNN (K-Nearest Neightbours). Saya memilih algoritma KNN karena dengan mencari nearest neighbours, saya bisa mengetahui product yang paling mendekati product yang pernah dicari seorang user di masa lalu."
   ]
  },
  {
   "cell_type": "markdown",
   "metadata": {},
   "source": [
    "* ``metric`` merupakan parameter yang digunakan untuk mengukur kemiripan data yang diukur sedangkan ``consine`` merupakan implementasi dari consine similarity untuk mengukur kemiripan di mana semakin tinggi nilai consine-nya, semakin tinggi kemiripannya\n",
    "* ``algorithm='brute'`` merupakan implementasi dari brute force search untuk menghitung jarak ke seluruh atau satu per satu data untuk menemukan nearest neighbour\n",
    "* ``T`` akan transpose matrix "
   ]
  },
  {
   "cell_type": "code",
   "execution_count": 11,
   "metadata": {},
   "outputs": [
    {
     "name": "stdout",
     "output_type": "stream",
     "text": [
      "KNN telah di-training\n"
     ]
    }
   ],
   "source": [
    "# implementasi KNN dari module sklearn\n",
    "knn = NearestNeighbors(metric='cosine', algorithm='brute')\n",
    "\n",
    "# transpose matrix\n",
    "knn.fit(train_sparse_matrix.T)\n",
    "\n",
    "# Tampilkan pesan bahwa model telah selesai dilatih\n",
    "print(\"KNN telah di-training\")"
   ]
  },
  {
   "cell_type": "markdown",
   "metadata": {},
   "source": [
    "### Rekomendasi Produk"
   ]
  },
  {
   "cell_type": "markdown",
   "metadata": {},
   "source": [
    "penjelasan parameter:\n",
    "* ``user_id``: userID yang akan diberi rekomendasi\n",
    "* ``sparse_matrix``: matrix yang menyimpan rating user terhadap suatu produk\n",
    "* ``user_mapping``: mapping userID ke index dalam matrix space\n",
    "* ``product_mapping``: mapping productID ke index dalam matrix space\n",
    "* ``knn``: algoritma KNN yang sudah di-train\n",
    "* ``ds``: dataset\n",
    "* ``n_recommendation``: jumlah produk yang ingin direkomendasikan (saya menggunakan default 8 produk karena jika saya tidak menggunakan batas produk, akan memerlukan waktu yang banyak untuk mengeluarkan output nya)\n",
    "* ``time_treshold``: batas waktu dari pembelian sebelumnya "
   ]
  },
  {
   "cell_type": "code",
   "execution_count": 12,
   "metadata": {},
   "outputs": [
    {
     "name": "stdout",
     "output_type": "stream",
     "text": [
      "[('B005XGQJY2', 4.5), ('B003H9M9B4', 5.0), ('B00CRMWOLC', 4.0), ('B00BWK57KA', 3.5), ('B000OKFD1W', 5.0), ('B000050ZZG', 5.0), ('B00B5I7P36', 5.0), ('B000E392XY', 5.0)]\n"
     ]
    }
   ],
   "source": [
    "def recommend_products(user_id, sparse_matrix, user_mapping, product_mapping, product_inverse_mapper, knn, ds, n_recommendations=8, time_threshold=pd.Timestamp.now() - pd.Timedelta(days=365)):\n",
    "    user_idx = user_mapping[user_id] # mencari index baris dalam matrix sparse\n",
    "    # mendapatkan rating lalu mengubahnya menjadi array\n",
    "    user_ratings = sparse_matrix[user_idx, :].toarray().flatten()\n",
    "    rated_items = np.where(user_ratings > 0)[0] # mencari index product yang pernah di-rating\n",
    "    \n",
    "    recommendations = {}\n",
    "    \n",
    "    for item_idx in rated_items:\n",
    "        distances, indices = knn.kneighbors(sparse_matrix.T[item_idx], n_neighbors=n_recommendations+1)\n",
    "        # tidak mengambil yang pertama karena merupakan produk itu sendiri\n",
    "        similar_items = indices.flatten()[1:] \n",
    "        similar_items_scores = distances.flatten()[1:]\n",
    "        \n",
    "        # mendapatkan timestamp pembelian terakhir untuk produk yang dibeli user\n",
    "        user_item_timestamp = ds[(ds['userID'] == user_id) & (ds['productID'] == product_inverse_mapper[item_idx])]['date'].values[0]\n",
    "        \n",
    "        for similar_item_idx, score in zip(similar_items, similar_items_scores):\n",
    "            similar_item = product_inverse_mapper[similar_item_idx]\n",
    "            # jika belum ada, tambahkan ke dictionary (recommendation)\n",
    "            if similar_item not in recommendations:\n",
    "                recommendations[similar_item] = [score, user_item_timestamp]\n",
    "            # jika sudah ada, tambahkan distance yang baru \n",
    "            else:\n",
    "                recommendations[similar_item][0] += score\n",
    "                recommendations[similar_item][1] = min(recommendations[similar_item][1], user_item_timestamp)\n",
    "    \n",
    "    # mengurutkan rekomendasi bersadasarkan kemiripan (semakin rendah score, semakin mirip) dan berdasarkan pembelian terakhir\n",
    "    recommendations = sorted(recommendations.items(), key=lambda x: (x[1][0], -pd.Timestamp(x[1][1]).timestamp()), reverse=True)\n",
    "    \n",
    "    recommendations = recommendations[:n_recommendations]\n",
    "    filtered_recommendations = [item for item in recommendations if item[1][1] > time_threshold]\n",
    "    if not filtered_recommendations:\n",
    "        filtered_recommendations = recommendations\n",
    "    \n",
    "    avg_ratings = {item[0]: ds[ds['productID'] == item[0]]['rating'].mean() for item in filtered_recommendations}\n",
    "    \n",
    "    return [(item[0], avg_ratings[item[0]]) for item in filtered_recommendations]\n",
    "\n",
    "# Contoh penggunaan fungsi rekomendasi\n",
    "user_id = 'A2BSSBK0B4FL26'\n",
    "recommendations = recommend_products(user_id, train_sparse_matrix, user_mapping, product_mapping, product_inverse_mapper, knn, data_train)\n",
    "print(recommendations)"
   ]
  },
  {
   "cell_type": "markdown",
   "metadata": {},
   "source": [
    "### Visualisasi Data"
   ]
  },
  {
   "cell_type": "code",
   "execution_count": 13,
   "metadata": {},
   "outputs": [
    {
     "data": {
      "image/png": "[encoded data removed]",
      "text/plain": [
       "<Figure size 1000x600 with 1 Axes>"
      ]
     },
     "metadata": {},
     "output_type": "display_data"
    }
   ],
   "source": [
    "def visualize_recommendations(recommendations):\n",
    "    if not recommendations:\n",
    "        print(\"No recommendations to display.\")\n",
    "        return\n",
    "    \n",
    "    product_ids, avg_ratings = zip(*recommendations)\n",
    "    \n",
    "    plt.figure(figsize=(10, 6))\n",
    "    sns.barplot(x=list(product_ids), y=list(avg_ratings))\n",
    "    plt.xlabel('productID')\n",
    "    plt.ylabel('Rata-rata Rating')\n",
    "    # plt.title('Recommended Products and Their Average Ratings')\n",
    "    plt.show()\n",
    "\n",
    "visualize_recommendations(recommendations)\n"
   ]
  },
  {
   "cell_type": "code",
   "execution_count": 13,
   "metadata": {},
   "outputs": [],
   "source": [
    "def evaluate_model(data_test, train_sparse_matrix, user_mapping, product_mapping, product_inverse_mapper, knn, ds, k=8):\n",
    "    y_true = []\n",
    "    y_pred = []\n",
    "    \n",
    "    for _, row in data_test.iterrows():\n",
    "        user_id = row['userID']\n",
    "        actual_product_id = row['productID']\n",
    "        \n",
    "        if user_id in user_mapping and actual_product_id in product_mapping:\n",
    "            recommendations = recommend_products(user_id, train_sparse_matrix, user_mapping, product_mapping, product_inverse_mapper, knn, ds, n_recommendations=k)\n",
    "            recommended_product_ids = [rec[0] for rec in recommendations]\n",
    "            \n",
    "            y_true.append(1)\n",
    "            y_pred.append(1 if actual_product_id in recommended_product_ids else 0)\n",
    "    \n",
    "    accuracy = accuracy_score(y_true, y_pred)\n",
    "    print(\"Accuracy:\", accuracy * 100, \"%\")\n",
    "\n",
    "# Evaluasi model\n",
    "evaluate_model(data_test, train_sparse_matrix, user_mapping, product_mapping, product_inverse_mapper, knn, data_train)\n"
   ]
  }
 ],
 "metadata": {
  "kernelspec": {
   "display_name": "Python 3",
   "language": "python",
   "name": "python3"
  },
  "language_info": {
   "codemirror_mode": {
    "name": "ipython",
    "version": 3
   },
   "file_extension": ".py",
   "mimetype": "text/x-python",
   "name": "python",
   "nbconvert_exporter": "python",
   "pygments_lexer": "ipython3",
   "version": "3.12.4"
  }
 },
 "nbformat": 4,
 "nbformat_minor": 2
}
